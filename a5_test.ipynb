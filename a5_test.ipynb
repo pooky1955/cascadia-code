{
 "cells": [
  {
   "cell_type": "code",
   "execution_count": 2,
   "metadata": {},
   "outputs": [],
   "source": [
    "import pandas as pd\n",
    "from config import RXNAV_PATH, MEDDRA_CSV_PATH, MIMIC_NOTES_PICKLE_OUTPUT_PATH\n",
    "from a4_rxnorm import RxNav\n",
    "from Levenshtein import ratio\n",
    "from util import load_pickle\n",
    "\n",
    "rxnav : RxNav = load_pickle(RXNAV_PATH)\n",
    "\n",
    "def search(term, drug_targets, rxcui_str_to_id, rxcui_resolver_dict):\n",
    "    best_match = max([(target, ratio(term, target))\n",
    "                     for target in drug_targets], key=lambda x: x[1])[0]\n",
    "    print(f\"Best match is {best_match}\")\n",
    "    rxcui_id = rxcui_str_to_id[best_match]\n",
    "    if rxcui_id in rxcui_resolver_dict:\n",
    "        possible_matches = rxcui_resolver_dict[rxcui_id]\n",
    "        print(possible_matches)\n",
    "        return possible_matches\n",
    "    return []\n"
   ]
  },
  {
   "cell_type": "code",
   "execution_count": 3,
   "metadata": {},
   "outputs": [],
   "source": [
    "mimic_df = pd.read_pickle(MIMIC_NOTES_PICKLE_OUTPUT_PATH)"
   ]
  },
  {
   "cell_type": "code",
   "execution_count": 6,
   "metadata": {},
   "outputs": [],
   "source": [
    "all_texts = mimic_df['TEXT'].values\n",
    "all_lens = [len(text) for text in all_texts]"
   ]
  },
  {
   "cell_type": "code",
   "execution_count": 8,
   "metadata": {},
   "outputs": [
    {
     "data": {
      "image/png": "[encoded data removed]",
      "text/plain": [
       "<Figure size 432x288 with 1 Axes>"
      ]
     },
     "metadata": {
      "needs_background": "light"
     },
     "output_type": "display_data"
    }
   ],
   "source": [
    "import matplotlib.pyplot as plt\n",
    "plt.title(\"Histogram of text length (in characteres) in MIMIC-III\")\n",
    "plt.hist(all_lens,bins=40)\n",
    "plt.show()"
   ]
  },
  {
   "cell_type": "code",
   "execution_count": 9,
   "metadata": {},
   "outputs": [
    {
     "data": {
      "text/plain": [
       "1826.0114800449312"
      ]
     },
     "execution_count": 9,
     "metadata": {},
     "output_type": "execute_result"
    }
   ],
   "source": [
    "import numpy as np\n",
    "np.mean(all_lens)\n"
   ]
  },
  {
   "cell_type": "code",
   "execution_count": 10,
   "metadata": {},
   "outputs": [
    {
     "data": {
      "text/plain": [
       "2510.938202052084"
      ]
     },
     "execution_count": 10,
     "metadata": {},
     "output_type": "execute_result"
    }
   ],
   "source": [
    "np.std(all_lens)"
   ]
  },
  {
   "cell_type": "code",
   "execution_count": 1,
   "metadata": {},
   "outputs": [
    {
     "name": "stderr",
     "output_type": "stream",
     "text": [
      "Asking to truncate to max_length but no maximum length is provided and the model has no predefined maximum length. Default to no truncation.\n"
     ]
    },
    {
     "data": {
      "text/plain": [
       "[{'entity': 'B-DRUG',\n",
       "  'score': 0.9680352,\n",
       "  'index': 1,\n",
       "  'word': 'an',\n",
       "  'start': 0,\n",
       "  'end': 2},\n",
       " {'entity': 'I-DRUG',\n",
       "  'score': 0.97342354,\n",
       "  'index': 2,\n",
       "  'word': '##ce',\n",
       "  'start': 2,\n",
       "  'end': 4},\n",
       " {'entity': 'I-DRUG',\n",
       "  'score': 0.97351915,\n",
       "  'index': 3,\n",
       "  'word': '##f',\n",
       "  'start': 4,\n",
       "  'end': 5}]"
      ]
     },
     "execution_count": 1,
     "metadata": {},
     "output_type": "execute_result"
    }
   ],
   "source": [
    "from a2_spanbert import load_ner\n",
    "ner = load_ner(use_gpu=True)\n",
    "ner(\"ancef is used in various medications.\")"
   ]
  },
  {
   "cell_type": "code",
   "execution_count": null,
   "metadata": {},
   "outputs": [],
   "source": []
  }
 ],
 "metadata": {
  "interpreter": {
   "hash": "1ab7a78f226cecf9b8df734933c8103c9e943d762bae739914f630e01bf8cfb8"
  },
  "kernelspec": {
   "display_name": "Python 3.8.12 64-bit ('torch-gpu-env': conda)",
   "language": "python",
   "name": "python3"
  },
  "language_info": {
   "codemirror_mode": {
    "name": "ipython",
    "version": 3
   },
   "file_extension": ".py",
   "mimetype": "text/x-python",
   "name": "python",
   "nbconvert_exporter": "python",
   "pygments_lexer": "ipython3",
   "version": "3.8.12"
  },
  "orig_nbformat": 4
 },
 "nbformat": 4,
 "nbformat_minor": 2
}
