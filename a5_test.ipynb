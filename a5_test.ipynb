{
 "cells": [
  {
   "cell_type": "code",
   "execution_count": null,
   "metadata": {},
   "outputs": [],
   "source": [
    "import pandas as pd\n",
    "from config import RXNAV_PATH, MEDDRA_CSV_PATH\n",
    "from a4_rxnorm import RxNav\n",
    "from Levenshtein import ratio\n",
    "from util import load_pickle\n",
    "\n",
    "rxnav : RxNav = load_pickle(\"rxnav.pickle\")\n",
    "\n",
    "def search(term, drug_targets, rxcui_str_to_id, rxcui_resolver_dict):\n",
    "    best_match = max([(target, ratio(term, target))\n",
    "                     for target in drug_targets], key=lambda x: x[1])[0]\n",
    "    print(f\"Best match is {best_match}\")\n",
    "    rxcui_id = rxcui_str_to_id[best_match]\n",
    "    if rxcui_id in rxcui_resolver_dict:\n",
    "        possible_matches = rxcui_resolver_dict[rxcui_id]\n",
    "        print(possible_matches)\n",
    "        return possible_matches\n",
    "    return []\n"
   ]
  }
 ],
 "metadata": {
  "interpreter": {
   "hash": "1ab7a78f226cecf9b8df734933c8103c9e943d762bae739914f630e01bf8cfb8"
  },
  "kernelspec": {
   "display_name": "Python 3.8.12 64-bit ('torch-gpu-env': conda)",
   "language": "python",
   "name": "python3"
  },
  "language_info": {
   "name": "python",
   "version": "3.8.12"
  },
  "orig_nbformat": 4
 },
 "nbformat": 4,
 "nbformat_minor": 2
}
