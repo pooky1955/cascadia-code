{
 "cells": [
  {
   "cell_type": "code",
   "execution_count": 1,
   "metadata": {},
   "outputs": [],
   "source": [
    "from util import load_pickle\n",
    "from config import MIMIC_NOTES_PICKLE_SHUFFLED, RXNAV_PATH, MEDDRA_CSV_PATH\n",
    "import pandas as pd\n",
    "from util import load_pickle\n",
    "from a4_rxnorm import RxNav\n"
   ]
  },
  {
   "cell_type": "code",
   "execution_count": 6,
   "metadata": {},
   "outputs": [],
   "source": [
    "# from config import MIMIC_PRESCRIPTION_PATH\n",
    "# prescriptions = pd.read_csv(MIMIC_PRESCRIPTION_PATH)"
   ]
  },
  {
   "cell_type": "code",
   "execution_count": 7,
   "metadata": {},
   "outputs": [],
   "source": [
    "# prescriptions"
   ]
  },
  {
   "cell_type": "code",
   "execution_count": 8,
   "metadata": {},
   "outputs": [],
   "source": [
    "# all_mimic_drugs = prescriptions['DRUG_NAME_GENERIC']"
   ]
  },
  {
   "cell_type": "code",
   "execution_count": 2,
   "metadata": {},
   "outputs": [],
   "source": [
    "groupedby = load_pickle(\"groupedby.pickle\")"
   ]
  },
  {
   "cell_type": "code",
   "execution_count": 3,
   "metadata": {},
   "outputs": [
    {
     "data": {
      "image/png": "[encoded data removed]",
      "text/plain": [
       "<Figure size 432x288 with 1 Axes>"
      ]
     },
     "metadata": {
      "needs_background": "light"
     },
     "output_type": "display_data"
    }
   ],
   "source": [
    "import matplotlib.pyplot as plt\n",
    "from collections import Counter\n",
    "\n",
    "all_drugs = {drug for obj in groupedby.values() for pred in obj.values() for drug in pred['DRUG']}\n",
    "all_drugs_len = [len(drug.split()) for drug in all_drugs]\n",
    "plt.title(\"Word Count distribution across drugs\")\n",
    "plt.hist(all_drugs_len,bins=10)\n",
    "plt.show()"
   ]
  },
  {
   "cell_type": "code",
   "execution_count": 4,
   "metadata": {},
   "outputs": [],
   "source": [
    "from itertools import groupby\n",
    "sorted_drugs = list(sorted(all_drugs,key=lambda drug: len(drug.split())))\n",
    "bylens_group = {length: list(els) for length, els in groupby(sorted_drugs,key=lambda drug: len(drug.split()))}"
   ]
  },
  {
   "cell_type": "code",
   "execution_count": 12,
   "metadata": {},
   "outputs": [],
   "source": [
    "# df = pd.read_pickle(MIMIC_NOTES_PICKLE_SHUFFLED)"
   ]
  },
  {
   "cell_type": "code",
   "execution_count": 5,
   "metadata": {},
   "outputs": [],
   "source": [
    "rxnav : RxNav = load_pickle(RXNAV_PATH)\n",
    "rx_df, drug_targets, rx_str_id, rx_id_str, rx_resolve = rxnav"
   ]
  },
  {
   "cell_type": "code",
   "execution_count": 6,
   "metadata": {},
   "outputs": [],
   "source": [
    "meddra_csv = pd.read_csv(MEDDRA_CSV_PATH)"
   ]
  },
  {
   "cell_type": "code",
   "execution_count": 7,
   "metadata": {},
   "outputs": [],
   "source": [
    "all_meddra_drugs = set(meddra_csv['drug_name'].unique())"
   ]
  },
  {
   "cell_type": "code",
   "execution_count": null,
   "metadata": {},
   "outputs": [],
   "source": []
  },
  {
   "cell_type": "code",
   "execution_count": 10,
   "metadata": {},
   "outputs": [],
   "source": [
    "from Levenshtein import ratio\n",
    "import re\n",
    "from collections import Counter\n",
    "from string import punctuation\n",
    "from itertools import takewhile\n",
    "\n",
    "punc_patt = re.compile(rf'[{punctuation}]')\n",
    "anti_word_patt = re.compile(rf'\\W')\n",
    "\n",
    "def find_with_exceptions(drug_name):\n",
    "    if drug_name.startswith(\"ancef\"):\n",
    "        return (1,\"cefazolin\")\n",
    "    return None\n",
    "\n",
    "def find_closest_drug(drugname):\n",
    "    first_word = drugname.split()[0]\n",
    "    scores = ((ratio(first_word.lower(),target_drug.lower()),target_drug) for target_drug in all_meddra_drugs)\n",
    "    return max(scores,key=lambda el : el[0])\n",
    "\n",
    "def find_closest_drug_rx(drugname):\n",
    "    first_word = drugname.split()[0]\n",
    "    scores = ((ratio(first_word.lower().split()[0],target_drug.lower().split()[0]),target_drug) for target_drug in drug_targets)\n",
    "    return max(scores,key=lambda el : (el[0],-len(el[1]))) # maximize ratio, then minimize length\n",
    "\n",
    "\n",
    "def extract_drug_sider(drug_name):\n",
    "    candidates = [find_closest_drug(el) for el in anti_word_patt.sub(' ',drug_name).split() if len(el) > 3]   \n",
    "    return [term for score, term in candidates if score > 0.8]\n",
    "\n",
    "def extract_drug_rx(drug_name):\n",
    "    all_drugs = punc_patt.split(drug_name)\n",
    "    candidates = [find_rxnav(el) for drug_name in all_drugs for el in anti_word_patt.sub(' ',drug_name).split() if len(el) > 3]\n",
    "    return candidates\n",
    "\n",
    "def find_rxnav(term):\n",
    "    likely_can = [(target,rx_str_id[target]) for target in drug_targets if target.lower().startswith(term.lower())]\n",
    "    return min(likely_can,key=lambda target: len(target[0]),default=None)\n",
    "\n",
    "def find_rxnav_all(term):\n",
    "    likely_can = [(target,rx_str_id[target]) for target in drug_targets if target.lower().startswith(term.lower())]\n",
    "    return sorted(likely_can,key=lambda target: len(target[0]))\n",
    "\n",
    "def find_sider_from_rxnav_with_id(rx_id):\n",
    "    if rx_id not in rx_resolve:\n",
    "        return None\n",
    "    sider_possible_set = {term.split()[0].lower() for _,term in rx_resolve[rx_id]}\n",
    "    scores = [find_closest_drug(sider_possible) for sider_possible in sider_possible_set]\n",
    "    return max(scores,key=lambda el: el[0],default=None)\n",
    "\n",
    "def find_sider_from_rxnav(term):\n",
    "    rx_id_result = find_rxnav(term)\n",
    "    if rx_id_result is None:\n",
    "        return None    \n",
    "    _ , rx_id = rx_id_result\n",
    "    return find_sider_from_rxnav_with_id(rx_id)\n",
    "\n",
    "def find_closest_sider_from_rxnav(term):\n",
    "    score, term = find_closest_drug_rx(term)\n",
    "    if score < 0.8:\n",
    "        return None\n",
    "    rx_id = rx_str_id[term]\n",
    "    return find_sider_from_rxnav_with_id(rx_id)\n",
    "\n",
    "\n",
    "def match_drug(drug_name):\n",
    "    '''This is the function to use when matching drugs'''\n",
    "    # first check if it's exception\n",
    "    fns = [find_with_exceptions, find_closest_drug, find_sider_from_rxnav,find_closest_sider_from_rxnav]\n",
    "    for fn in fns:\n",
    "        result = fn(drug_name)\n",
    "        if result is not None:\n",
    "            score, _ = result\n",
    "            if score > 0.8:\n",
    "                return result\n"
   ]
  },
  {
   "cell_type": "code",
   "execution_count": 22,
   "metadata": {},
   "outputs": [
    {
     "data": {
      "text/plain": [
       "('Tylenol', '202433')"
      ]
     },
     "execution_count": 22,
     "metadata": {},
     "output_type": "execute_result"
    }
   ],
   "source": [
    "find_rxnav(\"tylenol\")"
   ]
  },
  {
   "cell_type": "code",
   "execution_count": 11,
   "metadata": {},
   "outputs": [
    {
     "ename": "TypeError",
     "evalue": "cannot unpack non-iterable NoneType object",
     "output_type": "error",
     "traceback": [
      "\u001b[0;31m---------------------------------------------------------------------------\u001b[0m",
      "\u001b[0;31mTypeError\u001b[0m                                 Traceback (most recent call last)",
      "\u001b[0;32m/tmp/ipykernel_332562/874164098.py\u001b[0m in \u001b[0;36m<module>\u001b[0;34m\u001b[0m\n\u001b[0;32m----> 1\u001b[0;31m \u001b[0mmatch_drug\u001b[0m\u001b[0;34m(\u001b[0m\u001b[0;34m'tylenol'\u001b[0m\u001b[0;34m)\u001b[0m\u001b[0;34m\u001b[0m\u001b[0;34m\u001b[0m\u001b[0m\n\u001b[0m",
      "\u001b[0;32m/tmp/ipykernel_332562/3712442685.py\u001b[0m in \u001b[0;36mmatch_drug\u001b[0;34m(drug_name)\u001b[0m\n\u001b[1;32m     68\u001b[0m     \u001b[0mfns\u001b[0m \u001b[0;34m=\u001b[0m \u001b[0;34m[\u001b[0m\u001b[0mfind_with_exceptions\u001b[0m\u001b[0;34m,\u001b[0m \u001b[0mfind_closest_drug\u001b[0m\u001b[0;34m,\u001b[0m \u001b[0mfind_sider_from_rxnav\u001b[0m\u001b[0;34m,\u001b[0m\u001b[0mfind_closest_sider_from_rxnav\u001b[0m\u001b[0;34m]\u001b[0m\u001b[0;34m\u001b[0m\u001b[0;34m\u001b[0m\u001b[0m\n\u001b[1;32m     69\u001b[0m     \u001b[0;32mfor\u001b[0m \u001b[0mfn\u001b[0m \u001b[0;32min\u001b[0m \u001b[0mfns\u001b[0m\u001b[0;34m:\u001b[0m\u001b[0;34m\u001b[0m\u001b[0;34m\u001b[0m\u001b[0m\n\u001b[0;32m---> 70\u001b[0;31m         \u001b[0mscore\u001b[0m\u001b[0;34m,\u001b[0m \u001b[0mel\u001b[0m \u001b[0;34m=\u001b[0m \u001b[0mfn\u001b[0m\u001b[0;34m(\u001b[0m\u001b[0mdrug_name\u001b[0m\u001b[0;34m)\u001b[0m\u001b[0;34m\u001b[0m\u001b[0;34m\u001b[0m\u001b[0m\n\u001b[0m\u001b[1;32m     71\u001b[0m         \u001b[0;32mif\u001b[0m \u001b[0mscore\u001b[0m \u001b[0;34m<\u001b[0m \u001b[0;36m0.8\u001b[0m\u001b[0;34m:\u001b[0m\u001b[0;34m\u001b[0m\u001b[0;34m\u001b[0m\u001b[0m\n\u001b[1;32m     72\u001b[0m             \u001b[0;32mcontinue\u001b[0m\u001b[0;34m\u001b[0m\u001b[0;34m\u001b[0m\u001b[0m\n",
      "\u001b[0;31mTypeError\u001b[0m: cannot unpack non-iterable NoneType object"
     ]
    }
   ],
   "source": [
    "match_drug('tylenol')"
   ]
  },
  {
   "cell_type": "code",
   "execution_count": 55,
   "metadata": {},
   "outputs": [
    {
     "data": {
      "text/plain": [
       "'cefazolin'"
      ]
     },
     "execution_count": 55,
     "metadata": {},
     "output_type": "execute_result"
    }
   ],
   "source": [
    "find_with_exceptions(\"ancef\")"
   ]
  },
  {
   "cell_type": "code",
   "execution_count": 51,
   "metadata": {},
   "outputs": [
    {
     "data": {
      "text/plain": [
       "[('Ancef', '203483'),\n",
       " ('Ancef 1g Powder for Injection', '1665078'),\n",
       " ('Ancef 500mg Powder for Injection', '1665081'),\n",
       " ('Ancef 10g Bulk Powder for Injection', '1665079'),\n",
       " ('Ancef, 500 mg/50 mL intravenous solution', '1665082'),\n",
       " ('Ancef, 1 g injectable powder for injection', '1665078'),\n",
       " ('Ancef, 5 g injectable powder for injection', '1665079'),\n",
       " ('Ancef, 10 g injectable powder for injection', '1665079'),\n",
       " ('Ancef 1g/50ml Premixed Solution for Injection', '1665077'),\n",
       " ('Ancef, 500 mg injectable powder for injection', '1665081'),\n",
       " ('Ancef 500mg/50ml Premixed Solution for Injection', '1665082'),\n",
       " ('Ancef, 1 g/50 mL-iso-osmotic dextrose intravenous solution', '1994655')]"
      ]
     },
     "execution_count": 51,
     "metadata": {},
     "output_type": "execute_result"
    }
   ],
   "source": [
    "find_rxnav_all('ancef')"
   ]
  },
  {
   "cell_type": "code",
   "execution_count": 53,
   "metadata": {},
   "outputs": [
    {
     "data": {
      "text/plain": [
       "(1.0, 'cefazolin')"
      ]
     },
     "execution_count": 53,
     "metadata": {},
     "output_type": "execute_result"
    }
   ],
   "source": [
    "find_closest_drug('cefazolin')"
   ]
  },
  {
   "cell_type": "code",
   "execution_count": 47,
   "metadata": {},
   "outputs": [],
   "source": [
    "find_closest_sider_from_rxnav('ancef')"
   ]
  },
  {
   "cell_type": "code",
   "execution_count": null,
   "metadata": {},
   "outputs": [],
   "source": []
  },
  {
   "cell_type": "code",
   "execution_count": 39,
   "metadata": {},
   "outputs": [
    {
     "data": {
      "text/plain": [
       "(1.0, 'hydromorphone')"
      ]
     },
     "execution_count": 39,
     "metadata": {},
     "output_type": "execute_result"
    }
   ],
   "source": [
    "find_sider_from_rxnav(\"dilaudid\")"
   ]
  },
  {
   "cell_type": "code",
   "execution_count": 38,
   "metadata": {},
   "outputs": [
    {
     "data": {
      "text/plain": [
       "(1.0, 'solifenacin')"
      ]
     },
     "execution_count": 38,
     "metadata": {},
     "output_type": "execute_result"
    }
   ],
   "source": [
    "find_sider_from_rxnav(\"vesicare\")"
   ]
  },
  {
   "cell_type": "code",
   "execution_count": 23,
   "metadata": {},
   "outputs": [
    {
     "data": {
      "text/plain": [
       "('Acetaminophen', '161')"
      ]
     },
     "execution_count": 23,
     "metadata": {},
     "output_type": "execute_result"
    }
   ],
   "source": [
    "find_rxnav('acetaminophen')"
   ]
  },
  {
   "cell_type": "code",
   "execution_count": 32,
   "metadata": {},
   "outputs": [],
   "source": [
    "# sorted(rx_resolve['202433'],key=lambda tup: len(tup[1]))\n",
    "\n",
    "    "
   ]
  },
  {
   "cell_type": "code",
   "execution_count": 33,
   "metadata": {},
   "outputs": [
    {
     "data": {
      "text/plain": [
       "(1.0, 'acetaminophen')"
      ]
     },
     "execution_count": 33,
     "metadata": {},
     "output_type": "execute_result"
    }
   ],
   "source": [
    "find_sider_from_rxnav('tylenol')"
   ]
  },
  {
   "cell_type": "code",
   "execution_count": 34,
   "metadata": {},
   "outputs": [
    {
     "data": {
      "text/plain": [
       "(1.0, 'piperacillin')"
      ]
     },
     "execution_count": 34,
     "metadata": {},
     "output_type": "execute_result"
    }
   ],
   "source": [
    "find_sider_from_rxnav('zosyn')"
   ]
  },
  {
   "cell_type": "code",
   "execution_count": 17,
   "metadata": {},
   "outputs": [
    {
     "data": {
      "text/plain": [
       "1"
      ]
     },
     "execution_count": 17,
     "metadata": {},
     "output_type": "execute_result"
    }
   ],
   "source": [
    "max([len(drug.split()) for drug in all_meddra_drugs])"
   ]
  },
  {
   "cell_type": "code",
   "execution_count": 18,
   "metadata": {},
   "outputs": [
    {
     "data": {
      "text/plain": [
       "[('amlodipine aldactone', 1),\n",
       " ('dexamethasone gtt', 1),\n",
       " ('high bs', 1),\n",
       " ('dobutamine svo2', 1),\n",
       " ('hydrogel dsg', 1),\n",
       " ('valproate acid', 1),\n",
       " ('warfarin l', 1),\n",
       " ('guaiac stool', 1),\n",
       " ('cepacol lozenge', 1),\n",
       " ('- albuterol', 1)]"
      ]
     },
     "execution_count": 18,
     "metadata": {},
     "output_type": "execute_result"
    }
   ],
   "source": [
    "Counter(bylens_group[2]).most_common(10)"
   ]
  },
  {
   "cell_type": "code",
   "execution_count": 19,
   "metadata": {},
   "outputs": [
    {
     "ename": "TypeError",
     "evalue": "<lambda>() missing 1 required positional argument: 'id'",
     "output_type": "error",
     "traceback": [
      "\u001b[0;31m---------------------------------------------------------------------------\u001b[0m",
      "\u001b[0;31mTypeError\u001b[0m                                 Traceback (most recent call last)",
      "\u001b[0;32m/tmp/ipykernel_203795/3890384899.py\u001b[0m in \u001b[0;36m<module>\u001b[0;34m\u001b[0m\n\u001b[0;32m----> 1\u001b[0;31m \u001b[0mextract_drug_rx\u001b[0m\u001b[0;34m(\u001b[0m\u001b[0;34m'nacardipine labetolol'\u001b[0m\u001b[0;34m)\u001b[0m\u001b[0;34m\u001b[0m\u001b[0;34m\u001b[0m\u001b[0m\n\u001b[0m",
      "\u001b[0;32m/tmp/ipykernel_203795/3851773432.py\u001b[0m in \u001b[0;36mextract_drug_rx\u001b[0;34m(drug_name)\u001b[0m\n\u001b[1;32m     18\u001b[0m \u001b[0;32mdef\u001b[0m \u001b[0mextract_drug_rx\u001b[0m\u001b[0;34m(\u001b[0m\u001b[0mdrug_name\u001b[0m\u001b[0;34m)\u001b[0m\u001b[0;34m:\u001b[0m\u001b[0;34m\u001b[0m\u001b[0;34m\u001b[0m\u001b[0m\n\u001b[1;32m     19\u001b[0m     \u001b[0mall_drugs\u001b[0m \u001b[0;34m=\u001b[0m \u001b[0mpunc_patt\u001b[0m\u001b[0;34m.\u001b[0m\u001b[0msplit\u001b[0m\u001b[0;34m(\u001b[0m\u001b[0mdrug_name\u001b[0m\u001b[0;34m)\u001b[0m\u001b[0;34m\u001b[0m\u001b[0;34m\u001b[0m\u001b[0m\n\u001b[0;32m---> 20\u001b[0;31m     \u001b[0mcandidates\u001b[0m \u001b[0;34m=\u001b[0m \u001b[0;34m[\u001b[0m\u001b[0mfind_rxnav\u001b[0m\u001b[0;34m(\u001b[0m\u001b[0mel\u001b[0m\u001b[0;34m)\u001b[0m \u001b[0;32mfor\u001b[0m \u001b[0mdrug_name\u001b[0m \u001b[0;32min\u001b[0m \u001b[0mall_drugs\u001b[0m \u001b[0;32mfor\u001b[0m \u001b[0mel\u001b[0m \u001b[0;32min\u001b[0m \u001b[0manti_word_patt\u001b[0m\u001b[0;34m.\u001b[0m\u001b[0msub\u001b[0m\u001b[0;34m(\u001b[0m\u001b[0;34m' '\u001b[0m\u001b[0;34m,\u001b[0m\u001b[0mdrug_name\u001b[0m\u001b[0;34m)\u001b[0m\u001b[0;34m.\u001b[0m\u001b[0msplit\u001b[0m\u001b[0;34m(\u001b[0m\u001b[0;34m)\u001b[0m \u001b[0;32mif\u001b[0m \u001b[0mlen\u001b[0m\u001b[0;34m(\u001b[0m\u001b[0mel\u001b[0m\u001b[0;34m)\u001b[0m \u001b[0;34m>\u001b[0m \u001b[0;36m3\u001b[0m\u001b[0;34m]\u001b[0m\u001b[0;34m\u001b[0m\u001b[0;34m\u001b[0m\u001b[0m\n\u001b[0m\u001b[1;32m     21\u001b[0m     \u001b[0;32mreturn\u001b[0m \u001b[0mcandidates\u001b[0m\u001b[0;34m\u001b[0m\u001b[0;34m\u001b[0m\u001b[0m\n\u001b[1;32m     22\u001b[0m \u001b[0;34m\u001b[0m\u001b[0m\n",
      "\u001b[0;32m/tmp/ipykernel_203795/3851773432.py\u001b[0m in \u001b[0;36m<listcomp>\u001b[0;34m(.0)\u001b[0m\n\u001b[1;32m     18\u001b[0m \u001b[0;32mdef\u001b[0m \u001b[0mextract_drug_rx\u001b[0m\u001b[0;34m(\u001b[0m\u001b[0mdrug_name\u001b[0m\u001b[0;34m)\u001b[0m\u001b[0;34m:\u001b[0m\u001b[0;34m\u001b[0m\u001b[0;34m\u001b[0m\u001b[0m\n\u001b[1;32m     19\u001b[0m     \u001b[0mall_drugs\u001b[0m \u001b[0;34m=\u001b[0m \u001b[0mpunc_patt\u001b[0m\u001b[0;34m.\u001b[0m\u001b[0msplit\u001b[0m\u001b[0;34m(\u001b[0m\u001b[0mdrug_name\u001b[0m\u001b[0;34m)\u001b[0m\u001b[0;34m\u001b[0m\u001b[0;34m\u001b[0m\u001b[0m\n\u001b[0;32m---> 20\u001b[0;31m     \u001b[0mcandidates\u001b[0m \u001b[0;34m=\u001b[0m \u001b[0;34m[\u001b[0m\u001b[0mfind_rxnav\u001b[0m\u001b[0;34m(\u001b[0m\u001b[0mel\u001b[0m\u001b[0;34m)\u001b[0m \u001b[0;32mfor\u001b[0m \u001b[0mdrug_name\u001b[0m \u001b[0;32min\u001b[0m \u001b[0mall_drugs\u001b[0m \u001b[0;32mfor\u001b[0m \u001b[0mel\u001b[0m \u001b[0;32min\u001b[0m \u001b[0manti_word_patt\u001b[0m\u001b[0;34m.\u001b[0m\u001b[0msub\u001b[0m\u001b[0;34m(\u001b[0m\u001b[0;34m' '\u001b[0m\u001b[0;34m,\u001b[0m\u001b[0mdrug_name\u001b[0m\u001b[0;34m)\u001b[0m\u001b[0;34m.\u001b[0m\u001b[0msplit\u001b[0m\u001b[0;34m(\u001b[0m\u001b[0;34m)\u001b[0m \u001b[0;32mif\u001b[0m \u001b[0mlen\u001b[0m\u001b[0;34m(\u001b[0m\u001b[0mel\u001b[0m\u001b[0;34m)\u001b[0m \u001b[0;34m>\u001b[0m \u001b[0;36m3\u001b[0m\u001b[0;34m]\u001b[0m\u001b[0;34m\u001b[0m\u001b[0;34m\u001b[0m\u001b[0m\n\u001b[0m\u001b[1;32m     21\u001b[0m     \u001b[0;32mreturn\u001b[0m \u001b[0mcandidates\u001b[0m\u001b[0;34m\u001b[0m\u001b[0;34m\u001b[0m\u001b[0m\n\u001b[1;32m     22\u001b[0m \u001b[0;34m\u001b[0m\u001b[0m\n",
      "\u001b[0;32m/tmp/ipykernel_203795/3851773432.py\u001b[0m in \u001b[0;36mfind_rxnav\u001b[0;34m(term)\u001b[0m\n\u001b[1;32m     29\u001b[0m \u001b[0;32mdef\u001b[0m \u001b[0mfind_rxnav\u001b[0m\u001b[0;34m(\u001b[0m\u001b[0mterm\u001b[0m\u001b[0;34m)\u001b[0m\u001b[0;34m:\u001b[0m\u001b[0;34m\u001b[0m\u001b[0;34m\u001b[0m\u001b[0m\n\u001b[1;32m     30\u001b[0m     \u001b[0mlikely_can\u001b[0m \u001b[0;34m=\u001b[0m \u001b[0;34m[\u001b[0m\u001b[0;34m(\u001b[0m\u001b[0mtarget\u001b[0m\u001b[0;34m,\u001b[0m\u001b[0mrx_str_id\u001b[0m\u001b[0;34m[\u001b[0m\u001b[0mtarget\u001b[0m\u001b[0;34m]\u001b[0m\u001b[0;34m)\u001b[0m \u001b[0;32mfor\u001b[0m \u001b[0mtarget\u001b[0m \u001b[0;32min\u001b[0m \u001b[0mdrug_targets\u001b[0m \u001b[0;32mif\u001b[0m \u001b[0mtarget\u001b[0m\u001b[0;34m.\u001b[0m\u001b[0mlower\u001b[0m\u001b[0;34m(\u001b[0m\u001b[0;34m)\u001b[0m\u001b[0;34m.\u001b[0m\u001b[0mstartswith\u001b[0m\u001b[0;34m(\u001b[0m\u001b[0mterm\u001b[0m\u001b[0;34m.\u001b[0m\u001b[0mlower\u001b[0m\u001b[0;34m(\u001b[0m\u001b[0;34m)\u001b[0m\u001b[0;34m)\u001b[0m\u001b[0;34m]\u001b[0m\u001b[0;34m\u001b[0m\u001b[0;34m\u001b[0m\u001b[0m\n\u001b[0;32m---> 31\u001b[0;31m     \u001b[0;32mreturn\u001b[0m \u001b[0mmin\u001b[0m\u001b[0;34m(\u001b[0m\u001b[0mlikely_can\u001b[0m\u001b[0;34m,\u001b[0m\u001b[0mkey\u001b[0m\u001b[0;34m=\u001b[0m\u001b[0;32mlambda\u001b[0m \u001b[0mtarget\u001b[0m\u001b[0;34m,\u001b[0m\u001b[0mid\u001b[0m\u001b[0;34m:\u001b[0m \u001b[0mlen\u001b[0m\u001b[0;34m(\u001b[0m\u001b[0mtarget\u001b[0m\u001b[0;34m)\u001b[0m\u001b[0;34m,\u001b[0m\u001b[0mdefault\u001b[0m\u001b[0;34m=\u001b[0m\u001b[0;32mNone\u001b[0m\u001b[0;34m)\u001b[0m\u001b[0;34m\u001b[0m\u001b[0;34m\u001b[0m\u001b[0m\n\u001b[0m",
      "\u001b[0;31mTypeError\u001b[0m: <lambda>() missing 1 required positional argument: 'id'"
     ]
    }
   ],
   "source": [
    "extract_drug_rx('nacardipine labetolol')"
   ]
  },
  {
   "cell_type": "code",
   "execution_count": null,
   "metadata": {},
   "outputs": [],
   "source": []
  },
  {
   "cell_type": "code",
   "execution_count": null,
   "metadata": {},
   "outputs": [
    {
     "ename": "SyntaxError",
     "evalue": "invalid syntax (4120019531.py, line 11)",
     "output_type": "error",
     "traceback": [
      "\u001b[0;36m  File \u001b[0;32m\"/tmp/ipykernel_76588/4120019531.py\"\u001b[0;36m, line \u001b[0;32m11\u001b[0m\n\u001b[0;31m    all_rxnav_drugs =\u001b[0m\n\u001b[0m                      ^\u001b[0m\n\u001b[0;31mSyntaxError\u001b[0m\u001b[0;31m:\u001b[0m invalid syntax\n"
     ]
    }
   ],
   "source": [
    "nodrug = dict()\n",
    "has_rx = dict()\n",
    "has_sider = dict()\n",
    "\n",
    "for i,drug in enumerate(all_drugs):\n",
    "    splitted_drugs = punc_patt.split(drug)\n",
    "    all_valid_drugs = [real_drug for pot_drug in splitted_drugs for real_drug in clean_drug(pot_drug)]\n",
    "    if len(all_valid_drugs) > 0:\n",
    "        has_sider[i] = all_valid_drugs\n",
    "        continue\n",
    "    all_rxnav_drugs = \n",
    "    # first check if in SIDER\n",
    "    "
   ]
  }
 ],
 "metadata": {
  "interpreter": {
   "hash": "1ab7a78f226cecf9b8df734933c8103c9e943d762bae739914f630e01bf8cfb8"
  },
  "kernelspec": {
   "display_name": "Python 3 (ipykernel)",
   "language": "python",
   "name": "python3"
  },
  "language_info": {
   "codemirror_mode": {
    "name": "ipython",
    "version": 3
   },
   "file_extension": ".py",
   "mimetype": "text/x-python",
   "name": "python",
   "nbconvert_exporter": "python",
   "pygments_lexer": "ipython3",
   "version": "3.8.12"
  }
 },
 "nbformat": 4,
 "nbformat_minor": 4
}
